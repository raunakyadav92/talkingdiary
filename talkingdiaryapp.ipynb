{
  "nbformat": 4,
  "nbformat_minor": 0,
  "metadata": {
    "colab": {
      "provenance": [],
      "authorship_tag": "ABX9TyNvbW82QGkc2bQ7zW7OToY/",
      "include_colab_link": true
    },
    "kernelspec": {
      "name": "python3",
      "display_name": "Python 3"
    },
    "language_info": {
      "name": "python"
    }
  },
  "cells": [
    {
      "cell_type": "markdown",
      "metadata": {
        "id": "view-in-github",
        "colab_type": "text"
      },
      "source": [
        "<a href=\"https://colab.research.google.com/github/raunakyadav92/talkingdiary/blob/main/talkingdiaryapp.ipynb\" target=\"_parent\"><img src=\"https://colab.research.google.com/assets/colab-badge.svg\" alt=\"Open In Colab\"/></a>"
      ]
    },
    {
      "cell_type": "code",
      "execution_count": null,
      "metadata": {
        "id": "2rwaBpcrIlNz"
      },
      "outputs": [],
      "source": [
        "import speech_recognition as sr\n",
        "import pyttsx3\n",
        "import datetime\n",
        "\n",
        "def speak(text):\n",
        "    engine = pyttsx3.init()\n",
        "    engine.say(text)\n",
        "    engine.runAndWait()\n",
        "\n",
        "def listen():\n",
        "    r = sr.Recognizer()\n",
        "    with sr.Microphone() as source:\n",
        "        print(\"🎤 Speak your diary entry...\")\n",
        "        audio = r.listen(source)\n",
        "        try:\n",
        "            text = r.recognize_google(audio)\n",
        "            print(f\"You said: {text}\")\n",
        "            return text\n",
        "        except:\n",
        "            print(\"❌ Sorry, could not understand.\")\n",
        "            return \"\"\n",
        "\n",
        "def save_entry(entry):\n",
        "    with open(\"my_diary.txt\", \"a\") as file:\n",
        "        file.write(f\"{datetime.datetime.now()}: {entry}\\n\")\n",
        "\n",
        "def ai_reply(entry):\n",
        "    if \"sad\" in entry.lower():\n",
        "        return \"😔 I’m sorry to hear that. Remember, brighter days are coming!\"\n",
        "    elif \"happy\" in entry.lower():\n",
        "        return \"😊 That’s wonderful! I’m happy for you.\"\n",
        "    else:\n",
        "        return \"📝 Thank you for sharing. I’m always here to listen.\"\n",
        "\n",
        "speak(\"Welcome to your Talking Diary!\")\n",
        "\n",
        "entry = listen()\n",
        "if entry:\n",
        "    save_entry(entry)\n",
        "    reply = ai_reply(entry)\n",
        "    print(reply)\n",
        "    speak(reply)\n",
        "else:\n",
        "    speak(\"I did not catch that. Let's try again later.\")\n",
        "\n"
      ]
    }
  ]
}